{
  "nbformat": 4,
  "nbformat_minor": 0,
  "metadata": {
    "colab": {
      "provenance": []
    },
    "kernelspec": {
      "name": "python3",
      "display_name": "Python 3"
    },
    "language_info": {
      "name": "python"
    }
  },
  "cells": [
    {
      "cell_type": "markdown",
      "source": [
        "# Question 1\n",
        "## **Medal Assignment Challenge**\n",
        "Given scores of N athletes,\n",
        "find their relative ranks and\n",
        "the people with the top three\n",
        "highest scores, who will be\n",
        "awarded medals: \"Gold\n",
        "Medal\", \"Silver Medal\" and\n",
        "\"Bronze Medal\".\n",
        "\n",
        "Input: [5, 4, 3, 2, 1]\n",
        "\n",
        "Output: [\"Gold Medal\", \"Silver Medal\", \"Bronze Medal\", \"4\", \"5\" ]"
      ],
      "metadata": {
        "id": "-EVn32F3nCmR"
      }
    },
    {
      "cell_type": "markdown",
      "source": [
        "### **Case 1:** For Sorted Scores"
      ],
      "metadata": {
        "id": "O2YtK0OZE-hs"
      }
    },
    {
      "cell_type": "code",
      "execution_count": null,
      "metadata": {
        "colab": {
          "base_uri": "https://localhost:8080/"
        },
        "id": "bj1tnqEZkd0r",
        "outputId": "1f23e9ce-49bb-4004-f813-b13addc9b99a"
      },
      "outputs": [
        {
          "output_type": "stream",
          "name": "stdout",
          "text": [
            "Enter Number of Athletes: 5\n",
            "Enter Scores in Descending Order\n",
            "Enter Score: 5\n",
            "Enter Score: 4\n",
            "Enter Score: 3\n",
            "Enter Score: 2\n",
            "Enter Score: 1\n",
            "List After Assigning Score is:\n",
            "['Gold Medal', 'Silver Medal', 'Bronze Medal', '4', '5']\n"
          ]
        }
      ],
      "source": [
        "# Considering List is Sorted\n",
        "\n",
        "# Taking Input\n",
        "N = int(input(\"Enter Number of Athletes: \"))\n",
        "\n",
        "print(\"Enter Scores in Descending Order\")\n",
        "\n",
        "# List to Store Scores\n",
        "score_List = []\n",
        "\n",
        "# Loop to take Scores\n",
        "for i in range(N):\n",
        "\n",
        "  score = int(input(\"Enter Score: \"))\n",
        "  score_List.append(score)\n",
        "\n",
        "# Now Assigning Medals\n",
        "for i in range(0, len(score_List)):\n",
        "\n",
        "  if i == 0:\n",
        "    score_List[i] = 'Gold Medal'\n",
        "\n",
        "  elif i == 1:\n",
        "    score_List[i] = 'Silver Medal'\n",
        "\n",
        "  elif i == 2:\n",
        "    score_List[i] = 'Bronze Medal'\n",
        "\n",
        "  else:\n",
        "     score_List[i] = str(i+1)\n",
        "\n",
        "print(\"List After Assigning Score is:\")\n",
        "print(score_List)"
      ]
    },
    {
      "cell_type": "markdown",
      "source": [
        "### **Case 2:** For Unsorted Scores"
      ],
      "metadata": {
        "id": "2HioRYeMFJNr"
      }
    },
    {
      "cell_type": "code",
      "source": [
        "# Considering List is Unsorted\n",
        "\n",
        "# Taking Input\n",
        "N = int(input(\"Enter Number of Athletes: \"))\n",
        "\n",
        "print(\"Enter Scores in Any Order\")\n",
        "\n",
        "# List to Store Scores\n",
        "score_List = []\n",
        "\n",
        "# Loop to take Scores\n",
        "for i in range(N):\n",
        "\n",
        "  score = int(input(\"Enter Score: \"))\n",
        "  score_List.append(score)\n",
        "\n",
        "# Finding Sorted Indices\n",
        "sorted_indexes = sorted(range(len(score_List)), key = lambda x: score_List[x], reverse = True)\n",
        "\n",
        "# Now Assigning Medals\n",
        "for i in range(len(score_List)):\n",
        "\n",
        "  if i == sorted_indexes[0]:\n",
        "    score_List[i] = 'Gold Medal'\n",
        "\n",
        "  elif i == sorted_indexes[1]:\n",
        "    score_List[i] = 'Silver Medal'\n",
        "\n",
        "  elif i == sorted_indexes[2]:\n",
        "    score_List[i] = 'Bronze Medal'\n",
        "\n",
        "  else:\n",
        "     score_List[i] = str(sorted_indexes.index(i) + 1)\n",
        "\n",
        "print(\"List After Assigning Score is:\")\n",
        "print(score_List)"
      ],
      "metadata": {
        "colab": {
          "base_uri": "https://localhost:8080/"
        },
        "id": "Ou7GUOKMo_DK",
        "outputId": "1cd35d28-9c88-452d-e470-6cfbae3a0184"
      },
      "execution_count": null,
      "outputs": [
        {
          "output_type": "stream",
          "name": "stdout",
          "text": [
            "Enter Number of Athletes: 5\n",
            "Enter Scores in Any Order\n",
            "Enter Score: 5\n",
            "Enter Score: 8\n",
            "Enter Score: 2\n",
            "Enter Score: 1\n",
            "Enter Score: 3\n",
            "List After Assigning Score is:\n",
            "['Silver Medal', 'Gold Medal', '4', '5', 'Bronze Medal']\n"
          ]
        }
      ]
    },
    {
      "cell_type": "markdown",
      "source": [
        "# Question 2\n",
        "## **Perfect Number**\n",
        "A perfect number is a positive\n",
        "integer that is equal to the\n",
        "sum of its positive divisors,\n",
        "excluding the number itself. A\n",
        "divisor of an integer x is an\n",
        "integer that can divide x\n",
        "evenly.\n",
        "\n",
        "Given an integer n, return true\n",
        "if n is a perfect number,\n",
        "otherwise return false.\n",
        "\n",
        "Input: num = 28\n",
        "\n",
        "Output: True\n"
      ],
      "metadata": {
        "id": "cav5TH6AFkTN"
      }
    },
    {
      "cell_type": "code",
      "source": [
        "# Taking Input\n",
        "n = int(input(\"Enter Number: \"))\n",
        "\n",
        "# List for Storing Positive Divisor\n",
        "# Adding 1 as 1 is Positive Divisor of all numbers\n",
        "positive_div = [1]\n",
        "\n",
        "# Finding Positive divisors\n",
        "# Any Number Positive divisor is always less than its half(or Median of the Number)\n",
        "for i in range(2, n//2 + 1):\n",
        "\n",
        "  # Finding Positive divisor and adding to\n",
        "  if n % i == 0:\n",
        "    positive_div.append(i)\n",
        "\n",
        "# Printing Result\n",
        "# Sum Function is used to find sum of list\n",
        "if n == sum(positive_div):\n",
        "  print(\"True\")\n",
        "else:\n",
        "  print(\"False\")"
      ],
      "metadata": {
        "id": "zcCPppBvx8yq",
        "colab": {
          "base_uri": "https://localhost:8080/"
        },
        "outputId": "7eeb0c75-afaf-40eb-b1d3-34d1d4e565fc"
      },
      "execution_count": null,
      "outputs": [
        {
          "output_type": "stream",
          "name": "stdout",
          "text": [
            "Enter Number: 28\n",
            "True\n"
          ]
        }
      ]
    },
    {
      "cell_type": "markdown",
      "source": [
        "# Question 3\n",
        "## **Base 7 String**\n",
        "Given an integer, return\n",
        "its base 7 _ string\n",
        "representation.\n",
        "\n",
        "Input: 100\n",
        "\n",
        "Output: \"202\"\n",
        "\n",
        "### **Note**: Just By changing the base we can use this same function for any conversion."
      ],
      "metadata": {
        "id": "q_1mpnPYIZNn"
      }
    },
    {
      "cell_type": "code",
      "source": [
        "# Taking Input\n",
        "n = int(input(\"Enter Integer: \"))\n",
        "\n",
        "# Defining Function for Conversion\n",
        "def base_7(n):\n",
        "\n",
        "  # If Number is 0 then string representation is 0\n",
        "  if n == 0:\n",
        "    return 0\n",
        "\n",
        "  # Converting to Absolute value for negative integers\n",
        "  if n < 0:\n",
        "    abs(n)\n",
        "\n",
        "  # Result String\n",
        "  res = \"\"\n",
        "\n",
        "  # Loop to Find base 7 representation\n",
        "  while n > 0:\n",
        "\n",
        "    # Finding Remainder\n",
        "    rem = n % 7\n",
        "\n",
        "    # Adding to Result\n",
        "    res = str(rem) + res\n",
        "\n",
        "    # Updating n by its integer 7 division\n",
        "    n //= 7\n",
        "\n",
        "  return res\n",
        "\n",
        "# Calling Function\n",
        "print(\"Base 7 Conversion is:\", base_7(n))"
      ],
      "metadata": {
        "colab": {
          "base_uri": "https://localhost:8080/"
        },
        "id": "HmpNVV1sGqP5",
        "outputId": "8727fc8c-312a-4d64-bc0c-ca3385f70f2e"
      },
      "execution_count": null,
      "outputs": [
        {
          "output_type": "stream",
          "name": "stdout",
          "text": [
            "Enter Integer: 100\n",
            "Base 7 Conversion is: 202\n"
          ]
        }
      ]
    },
    {
      "cell_type": "markdown",
      "source": [
        "### **Note**: Just By changing the base we can use this same function for any conversion."
      ],
      "metadata": {
        "id": "O_5t2llLKjEb"
      }
    },
    {
      "cell_type": "code",
      "source": [
        "# Taking Input\n",
        "n = int(input(\"Enter Integer: \"))\n",
        "bs = int(input(\"Enter Base to Convert: \"))\n",
        "\n",
        "# Defining Function for Conversion\n",
        "def base_gen(base, n):\n",
        "\n",
        "  # If Number is 0 then string representation is 0\n",
        "  if n == 0:\n",
        "    return 0\n",
        "\n",
        "  # Converting to Absolute value for negative integers\n",
        "  if n < 0:\n",
        "    abs(n)\n",
        "\n",
        "  # Result String\n",
        "  res = \"\"\n",
        "\n",
        "  # Loop to Find base representation\n",
        "  while n > 0:\n",
        "\n",
        "    # Finding Remainder\n",
        "    rem = n % base\n",
        "\n",
        "    # Adding to Result\n",
        "    res = str(rem) + res\n",
        "\n",
        "    # Updating n by its integer base division\n",
        "    n //= base\n",
        "\n",
        "  return res\n",
        "\n",
        "# Calling Function\n",
        "print(f\"Base {bs} Conversion/Representation of Number {n} is:\",base_gen(bs,n))"
      ],
      "metadata": {
        "id": "DViqScUjKKLp",
        "colab": {
          "base_uri": "https://localhost:8080/"
        },
        "outputId": "7bf1e9fb-16df-48f5-9a00-deb11e0481bc"
      },
      "execution_count": null,
      "outputs": [
        {
          "output_type": "stream",
          "name": "stdout",
          "text": [
            "Enter Integer: 3\n",
            "Enter Base to Convert: 2\n",
            "Base 2 Conversion/Representation of Number 3 is: 11\n"
          ]
        }
      ]
    },
    {
      "cell_type": "markdown",
      "source": [
        "# Question 4\n",
        "## **Next Greater Number**\n",
        "\n",
        "Given a circular array (the next\n",
        "element of the last element is\n",
        "the first element of the array),\n",
        "print the Next Greater Number\n",
        "for every element. The Next\n",
        "Greater Number of a number x\n",
        "is the first greater number to\n",
        "its traversing-order next in the\n",
        "array, which means you could\n",
        "search circularly to find its next\n",
        "greater number. If it doesn't\n",
        "exist, output -1 for this\n",
        "number.\n",
        "\n",
        "Input: [1,2,1]\n",
        "\n",
        "Output: [2,-1,2]"
      ],
      "metadata": {
        "id": "HGhPXHPHiW1Z"
      }
    },
    {
      "cell_type": "code",
      "source": [
        "# Taking Input\n",
        "N = int(input(\"Enter Number of Elements: \"))\n",
        "\n",
        "# List to Store Scores\n",
        "circular_array = []\n",
        "\n",
        "# Loop to take Scores\n",
        "for i in range(N):\n",
        "\n",
        "  ele = int(input(f\"Enter Element {i+1}: \"))\n",
        "  circular_array.append(ele)\n",
        "\n",
        "def next_greater_element(circular_array):\n",
        "\n",
        "  # List to store next greater elements\n",
        "  next_greater_ele = []\n",
        "\n",
        "  # Finding the next greater element\n",
        "  for i in range(N):\n",
        "\n",
        "      next_greater = -1  # Default value if no greater element is found\n",
        "\n",
        "      for j in range(1, N):\n",
        "\n",
        "          # Use modulo to handle circular nature\n",
        "          index = (i + j) % N\n",
        "\n",
        "          if circular_array[index] > circular_array[i]:\n",
        "              next_greater = circular_array[index]\n",
        "              break\n",
        "\n",
        "      next_greater_ele.append(next_greater)\n",
        "\n",
        "  return next_greater_ele\n",
        "\n",
        "print(\"Next Greater Number in Circular Array is:\")\n",
        "# Calling Function\n",
        "print(next_greater_element(circular_array))"
      ],
      "metadata": {
        "colab": {
          "base_uri": "https://localhost:8080/"
        },
        "id": "GBwbbCDxhDYu",
        "outputId": "65c73673-4dbe-40b6-b5bd-ee1a5e9d8718"
      },
      "execution_count": null,
      "outputs": [
        {
          "output_type": "stream",
          "name": "stdout",
          "text": [
            "Enter Number of Elements: 3\n",
            "Enter Element 1: 1\n",
            "Enter Element 2: 2\n",
            "Enter Element 3: 1\n",
            "Next Greater Number in Circular Array is:\n",
            "[2, -1, 2]\n"
          ]
        }
      ]
    },
    {
      "cell_type": "markdown",
      "source": [
        "# Question 5\n",
        "## **Row Typability Challenge**\n",
        "Given a List of words, return\n",
        "the words that can be typed\n",
        "using letters of alphabet on\n",
        "only one row's of American\n",
        "keyboard.\n",
        "\n",
        "Input: = [\"Hello\", \"Alaska\",\n",
        "\"Dad\", \"Peace\"]\n",
        "\n",
        "Output: [\"Alaska\", \"Dad\"]"
      ],
      "metadata": {
        "id": "0TYMBCD7nNaz"
      }
    },
    {
      "cell_type": "code",
      "source": [
        "# Taking Input\n",
        "N = int(input(\"Enter Number of Words: \"))\n",
        "\n",
        "# List to Store Scores\n",
        "word_list = []\n",
        "\n",
        "# Loop to take Scores\n",
        "for i in range(N):\n",
        "\n",
        "  word = input(f\"Enter Word {i+1}: \")\n",
        "  word_list.append(word)\n",
        "\n",
        "def word_row_type(w):\n",
        "\n",
        "  # Converting String to Uppercase\n",
        "  w = w.upper()\n",
        "\n",
        "  # List of Rows in American Keyboard\n",
        "  rows = [\"QWERTPOIUY\", \"ASDFLKJGH\", \"ZXCVMNB\"]\n",
        "\n",
        "  # Checking if all characters of Word can be typed using all letters of rows for any of the rows\n",
        "  # If any row satisfies the condition it will break\n",
        "  if any(all(char in row for char in w) for row in rows):\n",
        "    return 1\n",
        "\n",
        "# List of Typable Words\n",
        "word_typable = [w for w in word_list if(word_row_type(w) == 1)]\n",
        "\n",
        "print(\"Words that can be typed from One Row Of American Keyboard are:\")\n",
        "print(word_typable)"
      ],
      "metadata": {
        "colab": {
          "base_uri": "https://localhost:8080/"
        },
        "id": "Lo4l40GMi32h",
        "outputId": "f21a2f72-ea1e-4368-943c-0ae2b87e2cf4"
      },
      "execution_count": null,
      "outputs": [
        {
          "output_type": "stream",
          "name": "stdout",
          "text": [
            "Enter Number of Words: 3\n",
            "Enter Word 1: all\n",
            "Enter Word 2: kk\n",
            "Enter Word 3: uii\n",
            "Words that can be typed from One Row Of American Keyboard are:\n",
            "['all', 'kk', 'uii']\n"
          ]
        }
      ]
    },
    {
      "cell_type": "markdown",
      "source": [
        "# Question 6\n",
        "## **Matrix Zigzag Order**\n",
        "Given a matrix of M x N\n",
        "elements (M rows, N\n",
        "columns), return all elements\n",
        "of the matrix in Zigzag\n",
        "order as shown in the below.\n",
        "\n",
        "Input:\n",
        "\n",
        "[\n",
        "\n",
        "&nbsp; &nbsp; [1,2,3], <br>\n",
        "&nbsp; &nbsp; [4,5,6], <br>\n",
        "&nbsp; &nbsp; [7,8,9]  <br>\n",
        "\n",
        "]\n",
        "\n",
        "Output: [1, 2, 3, 6, 5, 4, 7, 8, 9]"
      ],
      "metadata": {
        "id": "biZx8Eubs-5a"
      }
    },
    {
      "cell_type": "code",
      "source": [
        "# Importing Numpy for Matrix\n",
        "import numpy as np\n",
        "\n",
        "# This Function can be used to take input from user\n",
        "def Input_Matrix():\n",
        "\n",
        "  # Taking Input\n",
        "  M = int(input(\"Enter Number of Rows: \"))\n",
        "  N = int(input(\"Enter Number of Columns: \"))\n",
        "\n",
        "  # Declaring Matrix\n",
        "  mat = np.zeros((M,N), dtype = int)\n",
        "\n",
        "  # Loop to take input\n",
        "  for i in range(M):\n",
        "\n",
        "    for j in range(N):\n",
        "\n",
        "      ele = int(input(f\"Enter Element {i+1}: \"))\n",
        "      mat[i,j] = ele\n",
        "\n",
        "# Declaring Variables\n",
        "M, N = 3,3\n",
        "mat = np.array([[1,2,3], [4,5,6], [7,8,9]])\n",
        "\n",
        "print(\"Matrix is:\")\n",
        "print(mat)\n",
        "\n",
        "# Traversing Matrix\n",
        "def zigzag_order_mat(mat, m, n):\n",
        "\n",
        "  mat_trav_lst = []\n",
        "\n",
        "  for i in range(m):\n",
        "\n",
        "    if i == 0 or i == m - 1:\n",
        "\n",
        "      for j in range(n):\n",
        "        mat_trav_lst.append(mat[i,j])\n",
        "\n",
        "    else:\n",
        "\n",
        "      for j in range(n-1, -1, -1):\n",
        "        mat_trav_lst.append(mat[i,j])\n",
        "\n",
        "  return mat_trav_lst\n",
        "\n",
        "print(\"Zigzag Order Traversal Of Matrix is:\")\n",
        "print(zigzag_order_mat(mat, M, N))"
      ],
      "metadata": {
        "colab": {
          "base_uri": "https://localhost:8080/"
        },
        "id": "MY_LKQnpomxe",
        "outputId": "8263faf0-59da-45b2-f66a-efde86248ee8"
      },
      "execution_count": null,
      "outputs": [
        {
          "output_type": "stream",
          "name": "stdout",
          "text": [
            "Matrix is:\n",
            "[[1 2 3]\n",
            " [4 5 6]\n",
            " [7 8 9]]\n",
            "Zigzag Order Traversal Of Matrix is:\n",
            "[1, 2, 3, 6, 5, 4, 7, 8, 9]\n"
          ]
        }
      ]
    },
    {
      "cell_type": "markdown",
      "source": [
        "## **Matrix Z Order**\n",
        "Given a matrix of M x N\n",
        "elements (M rows, N\n",
        "columns), return all elements\n",
        "of the matrix in Z\n",
        "order as shown in the below.\n",
        "\n",
        "Input:\n",
        "\n",
        "[\n",
        "\n",
        "&nbsp; &nbsp; [1,2,3], <br>\n",
        "&nbsp; &nbsp; [4,5,6], <br>\n",
        "&nbsp; &nbsp; [7,8,9]  <br>\n",
        "\n",
        "]\n",
        "\n",
        "Output: [1, 2, 3, 3, 5, 7, 7, 8, 9]"
      ],
      "metadata": {
        "id": "ztCClLWf6Ywz"
      }
    },
    {
      "cell_type": "code",
      "source": [
        "# Finding Diagonal Elements\n",
        "def diag(mat,m,n):\n",
        "\n",
        "  j = n - 1\n",
        "  diag_lst = []\n",
        "\n",
        "  for i in range(m):\n",
        "\n",
        "    diag_lst.append(mat[i,j])\n",
        "    j -= 1\n",
        "\n",
        "  return diag_lst\n",
        "\n",
        "\n",
        "# Traversing Matrix\n",
        "def z_order_mat(mat, m, n):\n",
        "\n",
        "  mat_trav_lst = []\n",
        "\n",
        "  for i in range(m):\n",
        "\n",
        "    if i == 0 or i == m - 1:\n",
        "\n",
        "      for j in range(n):\n",
        "        mat_trav_lst.append(mat[i,j])\n",
        "\n",
        "    else:\n",
        "      diag_check = 0\n",
        "      if diag_check == 0:\n",
        "        diag_ele = diag(mat,m,n)\n",
        "        for i in diag_ele:\n",
        "          mat_trav_lst.append(i)\n",
        "      diag_check += 1\n",
        "\n",
        "  return mat_trav_lst\n",
        "\n",
        "print(\"Z Order Traversal Of Matrix is:\")\n",
        "print(z_order_mat(mat, M, N))"
      ],
      "metadata": {
        "colab": {
          "base_uri": "https://localhost:8080/"
        },
        "id": "S1QhTour2jC_",
        "outputId": "b797b5ea-f52a-4011-cfb6-a2679a7f1987"
      },
      "execution_count": null,
      "outputs": [
        {
          "output_type": "stream",
          "name": "stdout",
          "text": [
            "Z Order Traversal Of Matrix is:\n",
            "[1, 2, 3, 3, 5, 7, 7, 8, 9]\n"
          ]
        }
      ]
    },
    {
      "cell_type": "markdown",
      "source": [
        "# Question 7\n",
        "## **K-Reverse Shuffle**\n",
        "Given a string and an integer\n",
        "k, you need to reverse the\n",
        "first k characters for every 2k\n",
        "characters counting from the\n",
        "start of the string. If there are\n",
        "less than k characters left,\n",
        "reverse all of them. If there\n",
        "are less than 2k but greater\n",
        "than or equal to k characters,\n",
        "then reverse the first k\n",
        "characters and left the other\n",
        "as original.\n",
        "\n",
        "Input: s = \"abcdefg\", k =2 <br>\n",
        "Output: \"bacdfeg\""
      ],
      "metadata": {
        "id": "ROjm4K1HICs7"
      }
    },
    {
      "cell_type": "code",
      "source": [
        "# Taking Input\n",
        "string = input(\"Enter String: \")\n",
        "k = int(input(\"Enter K: \"))\n",
        "\n",
        "def k_reverse_shuffle(string,k):\n",
        "\n",
        "  result = []\n",
        "\n",
        "  for i in range(0, len(string), 2 * k):\n",
        "\n",
        "    seg = string[i: i + 2*k]\n",
        "    rev = seg[:k][::-1] + seg[k:]\n",
        "    result.append(rev)\n",
        "\n",
        "  return ''.join(result)\n",
        "\n",
        "print(k_reverse_shuffle(string,k))"
      ],
      "metadata": {
        "colab": {
          "base_uri": "https://localhost:8080/"
        },
        "id": "dRHNGncCDx2b",
        "outputId": "cde77c63-790e-44f1-a24e-b799d44857aa"
      },
      "execution_count": null,
      "outputs": [
        {
          "output_type": "stream",
          "name": "stdout",
          "text": [
            "Enter String: abcdefg\n",
            "Enter K: 2\n",
            "bacdfeg\n"
          ]
        }
      ]
    },
    {
      "cell_type": "markdown",
      "source": [
        "# Question 8\n",
        "## **Unique Element:**\n",
        "You are given a sorted array\n",
        "consisting of only integers\n",
        "where every element appears\n",
        "exactly twice, except for one\n",
        "element — which appears\n",
        "exactly once. Find this single\n",
        "element that appears only\n",
        "once.\n",
        "\n",
        "Follow up: Your solution\n",
        "should run in O(log n) time\n",
        "and O(1) space.\n",
        "\n",
        "Input: nums\n",
        "[3,3,7,7,10,11,11]\n",
        "\n",
        "Output: 10"
      ],
      "metadata": {
        "id": "sHfBxytvT2Mu"
      }
    },
    {
      "cell_type": "code",
      "source": [
        "# Input Sorted Array\n",
        "nums = [3,3,7,7,10,11,11]\n",
        "\n",
        "def unique_element(arr):\n",
        "\n",
        "  # We are initializing it as 0 because xor with 0 to any number is that number itsel\n",
        "  # Also Xor of same elements is 0\n",
        "  # Thus after this loop it will find the unique number\n",
        "  unique_ele = 0\n",
        "\n",
        "  for i in range(len(arr)):\n",
        "\n",
        "    unique_ele = unique_ele ^ arr[i]\n",
        "\n",
        "  return unique_ele\n",
        "\n",
        "print(\"Unique Number is:\",unique_element(nums))"
      ],
      "metadata": {
        "id": "SHLmkgFmMcMD",
        "colab": {
          "base_uri": "https://localhost:8080/"
        },
        "outputId": "7cc3cc5a-c318-45c9-90e6-eee089205c57"
      },
      "execution_count": null,
      "outputs": [
        {
          "output_type": "stream",
          "name": "stdout",
          "text": [
            "Unique Number is: 10\n"
          ]
        }
      ]
    },
    {
      "cell_type": "markdown",
      "source": [
        "# Question 9\n",
        "## **Capital Usage Validator:**\n",
        "Given a word, you need to judge\n",
        "whether the usage of capitals in it\n",
        "is right or not.\n",
        "\n",
        "We define the usage of capitals in\n",
        "a word to be right when one of the\n",
        "following cases holds:\n",
        "\n",
        "All letters in this word are capitals,\n",
        "like \"USA\".\n",
        "\n",
        "All letters in this word are not\n",
        "capitals, like \"leetcode\".\n",
        "\n",
        "Only the first letter in this word is\n",
        "capital, like \"Google\".\n",
        "\n",
        "Otherwise, we define that this\n",
        "word doesn't use capitals in a right\n",
        "Way.\n",
        "\n",
        "Input: \"USA\"\n",
        "\n",
        "Output: True\n"
      ],
      "metadata": {
        "id": "FZW4rSkfVtfp"
      }
    },
    {
      "cell_type": "code",
      "source": [
        "# Taking Input\n",
        "string = input(\"Enter String: \")\n",
        "\n",
        "# Checking\n",
        "def validate_Capital(string):\n",
        "\n",
        "  if string.islower() or string.isupper() or string.iscapitalize():\n",
        "    return True\n",
        "\n",
        "print(validate_Capital(string))"
      ],
      "metadata": {
        "colab": {
          "base_uri": "https://localhost:8080/"
        },
        "id": "myx48cbRWupx",
        "outputId": "3d16cc54-ed72-48b0-caf5-fb441700c07d"
      },
      "execution_count": null,
      "outputs": [
        {
          "output_type": "stream",
          "name": "stdout",
          "text": [
            "Enter String: USA\n",
            "True\n"
          ]
        }
      ]
    },
    {
      "cell_type": "markdown",
      "source": [
        "### Lambda Function for This Capital Letters Validator\n",
        "\n",
        "Since this can be done using a one liner function."
      ],
      "metadata": {
        "id": "TFk4CA7VhIm6"
      }
    },
    {
      "cell_type": "code",
      "source": [
        "# Checking\n",
        "validate_Capital = lambda string: True if string.islower() or string.isupper() or string.iscapitalize() else False\n",
        "print(validate_Capital(string))"
      ],
      "metadata": {
        "id": "N0HRkq-ZZvc4",
        "colab": {
          "base_uri": "https://localhost:8080/"
        },
        "outputId": "fe632359-dc24-46e2-bd50-7bde14f195d3"
      },
      "execution_count": null,
      "outputs": [
        {
          "output_type": "stream",
          "name": "stdout",
          "text": [
            "True\n"
          ]
        }
      ]
    },
    {
      "cell_type": "markdown",
      "source": [
        "# Question 10\n",
        "## **Odd Harmony Pattern Printer:**\n",
        "- Develop a program to print an engaging pattern called the \"Odd Harmony Pattern.\"\n",
        "- This pattern showcases rows of ascending odd numbers, creating a symmetrical and visually pleasing arrangement.\n",
        "- The challenge is to implement the algorithm for this straightforward and charming pattern printer, ensuring each row follows the specified sequence of odd numbers.\n",
        "- The Number of Rows r will be given input by user.\n",
        "\n",
        "Input: 5\n",
        "\n",
        "Output:\n",
        "\n",
        "1 3 5 7 9\n",
        "\n",
        "3 5 7 9 1\n",
        "\n",
        "5 7 9 1 3\n",
        "\n",
        "7 9 1 3 5\n",
        "\n",
        "9 1 3 5 7\n"
      ],
      "metadata": {
        "id": "ySSeig-fpjq8"
      }
    },
    {
      "cell_type": "markdown",
      "source": [
        "**First Approach:**\n",
        "- We will take two loops and then print the Pattern.\n",
        "- Here using the simple formula ***2 * i + 1*** , we are calculating odd numbers then directly printing them.\n",
        "- To ensure that the numbers does not exceed 9 we are using modulus 10.\n",
        "- The trick is to just use ***2 * r*** to figure the correct modulus as it is going to be one less than ***2 * r***.\n",
        "\n",
        "***First Iteration:***\n",
        "- The first iteration of this code will start from 0.\n",
        "- When i = 0, the calculation of j loop will be like 2 * 0 + 1 = 1.\n",
        "- Like this j will proceed and print the pattern."
      ],
      "metadata": {
        "id": "kSEwSoKuqH0f"
      }
    },
    {
      "cell_type": "code",
      "source": [
        "# Number of Rows\n",
        "r = int(input(\"Enter Number of Rows: \"))\n",
        "\n",
        "# Calculatin Mod\n",
        "mod = 2 * r\n",
        "\n",
        "print()\n",
        "\n",
        "# Loop to Print Pattern\n",
        "for i in range(0 , r):\n",
        "\n",
        "    for j in range(i , r + i):\n",
        "\n",
        "        val = 2 * j + 1\n",
        "\n",
        "        print((val % mod)  , end=\" \")\n",
        "\n",
        "    print()"
      ],
      "metadata": {
        "id": "qzDPIuR1iQAU",
        "colab": {
          "base_uri": "https://localhost:8080/"
        },
        "outputId": "d5f37fd7-751b-4490-b55e-4eaadf16f0fc"
      },
      "execution_count": null,
      "outputs": [
        {
          "output_type": "stream",
          "name": "stdout",
          "text": [
            "Enter Number of Rows: 6\n",
            "\n",
            "1 3 5 7 9 11 \n",
            "3 5 7 9 11 1 \n",
            "5 7 9 11 1 3 \n",
            "7 9 11 1 3 5 \n",
            "9 11 1 3 5 7 \n",
            "11 1 3 5 7 9 \n"
          ]
        }
      ]
    },
    {
      "cell_type": "markdown",
      "source": [
        "**Second Approach:**\n",
        "- We will take two loops and then print the Pattern.\n",
        "- The difference here is that we are going to take the step size 2 in the inner loop.\n",
        "- To understand it just look at the pattern it is having a difference of 2 so instead of using any formula we will directly give start and end range and it will print the pattern.\n",
        "- The modulus logic is same as above.\n",
        "- To calculate start range we are using ***2 * i***. The reason behind this is that the loop should begin with the correct number and that is also twice of original.\n",
        "- This ensures that loop starts with next number in the sequence.\n",
        "- Also the end condition is figured out based on twice of the original number plus mod so that it runs for all rows.\n",
        "\n",
        "***First Iteration:***\n",
        "- The first iteration of this code will start from 0.\n",
        "- s will be 2 * 0 = 1\n",
        "- Now inner loop will run from 1.\n",
        "- It will check if 1 is even or ***1 % 2 == 0*** since it will be false, 1 will be printed.\n",
        "- In case val is even it will increment to make it odd.\n",
        "- Like this j will proceed and print the pattern."
      ],
      "metadata": {
        "id": "cx86hCQNs2Sm"
      }
    },
    {
      "cell_type": "code",
      "source": [
        "# Number of Rows\n",
        "r = int(input(\"Enter Number of Rows: \"))\n",
        "\n",
        "# Calculatin Mod\n",
        "mod = 2 * r\n",
        "\n",
        "print()\n",
        "\n",
        "# Loop to Print Pattern\n",
        "for i in range(0 , r):\n",
        "\n",
        "    s = 2 * i\n",
        "\n",
        "    for j in range(s , mod + 2 * i, 2):\n",
        "\n",
        "        val = j % mod\n",
        "\n",
        "        if val % 2 == 0:\n",
        "            val = val + 1\n",
        "\n",
        "        print(val  , end=\" \")\n",
        "\n",
        "    print()"
      ],
      "metadata": {
        "colab": {
          "base_uri": "https://localhost:8080/"
        },
        "id": "R1JSIgHRryPj",
        "outputId": "a634e6d0-8556-4d84-bb1d-fa5e6d74ce70"
      },
      "execution_count": null,
      "outputs": [
        {
          "output_type": "stream",
          "name": "stdout",
          "text": [
            "Enter Number of Rows: 6\n",
            "\n",
            "1 3 5 7 9 11 \n",
            "3 5 7 9 11 1 \n",
            "5 7 9 11 1 3 \n",
            "7 9 11 1 3 5 \n",
            "9 11 1 3 5 7 \n",
            "11 1 3 5 7 9 \n"
          ]
        }
      ]
    },
    {
      "cell_type": "markdown",
      "source": [
        "**Third Approach:**\n",
        "- We will take two loops and then print the Pattern.\n",
        "- The difference here is that we are going to take the step size 2 in the inner loop.\n",
        "- To understand it just look at the pattern it is having a difference of 2 so instead of using any formula we will directly give start and end range and it will print the pattern.\n",
        "- The modulus logic is same as above.\n",
        "- To calculate start range we are using ***2 * i + 1***. The reason behind this is that the loop should begin with the correct number and that is also twice of original and it will be the required number.\n",
        "- This ensures that loop starts with next number in the sequence.\n",
        "- Also the end condition is figured out based on twice of the original number plus mod so that it runs for all rows.\n",
        "\n",
        "***First Iteration:***\n",
        "- The first iteration of this code will start from 0.\n",
        "- s will be 2 * 0 + 1 = 1\n",
        "- Now inner loop will run from 1.\n",
        "- Now here it will directly print odd number as start is from odd number.\n",
        "- We just need to use modulus so that it is cyclic.\n",
        "- Like this j will proceed and print the pattern."
      ],
      "metadata": {
        "id": "tiymthvDvAwu"
      }
    },
    {
      "cell_type": "code",
      "source": [
        "# Number of Rows\n",
        "r = int(input(\"Enter Number of Rows: \"))\n",
        "\n",
        "# Calculatin Mod\n",
        "mod = 2 * r\n",
        "\n",
        "print()\n",
        "\n",
        "# Loop to Print Pattern\n",
        "for i in range(0 , r):\n",
        "\n",
        "    s = 2 * i + 1\n",
        "\n",
        "    for j in range(s , mod + 2 * i, 2):\n",
        "\n",
        "        val = j % mod\n",
        "\n",
        "        print(val  , end=\" \")\n",
        "\n",
        "    print()"
      ],
      "metadata": {
        "colab": {
          "base_uri": "https://localhost:8080/"
        },
        "id": "FHTsX5ontS0H",
        "outputId": "48187529-4160-452b-9d07-cc5e65f9c6e5"
      },
      "execution_count": null,
      "outputs": [
        {
          "output_type": "stream",
          "name": "stdout",
          "text": [
            "Enter Number of Rows: 4\n",
            "\n",
            "1 3 5 7 \n",
            "3 5 7 1 \n",
            "5 7 1 3 \n",
            "7 1 3 5 \n"
          ]
        }
      ]
    },
    {
      "cell_type": "markdown",
      "source": [
        "**Fourth Approach:**\n",
        "- We will take one list to store sequence and then print the Pattern.\n",
        "- After this we will simply traverse the list and print the sequence.\n",
        "- To ensure cyclic pattern we are using modulus.\n",
        "- The logic for modulus is also same.\n",
        "\n",
        "***First Iteration:***\n",
        "- The first iteration of this code will start from 0.\n",
        "- It will go on till r and add sequence in list.\n",
        "- After this we will traverse the list and for cyclic property use modulus of r.\n",
        "- This will the desired pattern.\n",
        "- This can also be used to print the list element cyclic."
      ],
      "metadata": {
        "id": "xcBG7C2j6LJR"
      }
    },
    {
      "cell_type": "code",
      "source": [
        "# Number of Rows\n",
        "r = int(input(\"Enter Number of Rows: \"))\n",
        "\n",
        "# Calculatin Mod\n",
        "mod = 2 * r\n",
        "\n",
        "print()\n",
        "\n",
        "# List to Store Numbers\n",
        "lst = []\n",
        "\n",
        "# Storing Numbers in list\n",
        "for i in range(0 , r):\n",
        "\n",
        "    # Calculating next number in sequence\n",
        "    ele = 2 * i + 1\n",
        "\n",
        "    # Adding Element in list\n",
        "    lst.append(ele)\n",
        "\n",
        "# Traversing List and Printing Elements\n",
        "for i in range(0, r):\n",
        "\n",
        "    for j in range(i, r + i):\n",
        "\n",
        "        ind = j % r\n",
        "\n",
        "        print(lst[ind], end = \" \")\n",
        "\n",
        "    print()"
      ],
      "metadata": {
        "id": "B0C5SAdzvhat",
        "colab": {
          "base_uri": "https://localhost:8080/"
        },
        "outputId": "b9798b32-e403-4379-a47f-3bfbed096c64"
      },
      "execution_count": null,
      "outputs": [
        {
          "output_type": "stream",
          "name": "stdout",
          "text": [
            "Enter Number of Rows: 13\n",
            "\n",
            "1 3 5 7 9 11 13 15 17 19 21 23 25 \n",
            "3 5 7 9 11 13 15 17 19 21 23 25 1 \n",
            "5 7 9 11 13 15 17 19 21 23 25 1 3 \n",
            "7 9 11 13 15 17 19 21 23 25 1 3 5 \n",
            "9 11 13 15 17 19 21 23 25 1 3 5 7 \n",
            "11 13 15 17 19 21 23 25 1 3 5 7 9 \n",
            "13 15 17 19 21 23 25 1 3 5 7 9 11 \n",
            "15 17 19 21 23 25 1 3 5 7 9 11 13 \n",
            "17 19 21 23 25 1 3 5 7 9 11 13 15 \n",
            "19 21 23 25 1 3 5 7 9 11 13 15 17 \n",
            "21 23 25 1 3 5 7 9 11 13 15 17 19 \n",
            "23 25 1 3 5 7 9 11 13 15 17 19 21 \n",
            "25 1 3 5 7 9 11 13 15 17 19 21 23 \n"
          ]
        }
      ]
    },
    {
      "cell_type": "markdown",
      "source": [
        "# Question 11\n",
        "\n",
        "##**Alternating Number Pattern**\n",
        "\n",
        "- Generate a descending pattern of alternating numbers (1 and 0) based on the specified number of rows (r).\n",
        "- Start with the number 1 and repeat it in each row until reaching the specified number of rows.\n",
        "- Alternate to the number 0 in the next row and continue this alternating pattern until reaching a single number in the last row.\n",
        "\n",
        "Input: 5\n",
        "\n",
        "Output:\n",
        "\n",
        "1 1 1 1 1\n",
        "\n",
        "0 0 0 0\n",
        "\n",
        "1 1 1\n",
        "\n",
        "0 0\n",
        "\n",
        "1"
      ],
      "metadata": {
        "id": "zydkif4tP1hg"
      }
    },
    {
      "cell_type": "code",
      "source": [
        "# Number of Rows\n",
        "r = int(input(\"Enter Number of Rows: \"))\n",
        "\n",
        "# For Newline\n",
        "print()\n",
        "\n",
        "# Printing Pattern\n",
        "for i in range(r, 0, -1):\n",
        "\n",
        "  if i % 2 == 0:\n",
        "\n",
        "    print('0 ' * i)\n",
        "\n",
        "  else:\n",
        "\n",
        "    print('1 ' * i)"
      ],
      "metadata": {
        "id": "yOC6DG7P6XKS",
        "colab": {
          "base_uri": "https://localhost:8080/"
        },
        "outputId": "b5f9f4d0-62d8-4958-d0dc-43f97eab8263"
      },
      "execution_count": null,
      "outputs": [
        {
          "output_type": "stream",
          "name": "stdout",
          "text": [
            "Enter Number of Rows: 5\n",
            "\n",
            "1 1 1 1 1 \n",
            "0 0 0 0 \n",
            "1 1 1 \n",
            "0 0 \n",
            "1 \n"
          ]
        }
      ]
    },
    {
      "cell_type": "markdown",
      "source": [
        "# Question 12\n",
        "\n",
        "##**Increasing Letter Pattern**\n",
        "\n",
        "- Start with the letter 'A'.\n",
        "- Repeat the letter in each row until reaching the specified number of rows (r).\n",
        "- Increase the letter by one in the next row.\n",
        "Continue this pattern, increasing the letter in each subsequent row.\n",
        "\n",
        "Input: 5\n",
        "\n",
        "Output:\n",
        "\n",
        "A\n",
        "\n",
        "B B\n",
        "\n",
        "C C C\n",
        "\n",
        "D D D D\n",
        "\n",
        "E E E E E"
      ],
      "metadata": {
        "id": "7I9T-HpaS0ay"
      }
    },
    {
      "cell_type": "code",
      "source": [
        "# Number of Rows\n",
        "r = int(input(\"Enter Number of Rows: \"))\n",
        "\n",
        "# For Newline\n",
        "print()\n",
        "\n",
        "# Start Character\n",
        "start = ord('A')\n",
        "\n",
        "# Ending Character\n",
        "end = start + r\n",
        "\n",
        "# Printing Pattern\n",
        "for i in range(start, end):\n",
        "\n",
        "  print(chr(i) * (i+1 - 65))"
      ],
      "metadata": {
        "colab": {
          "base_uri": "https://localhost:8080/"
        },
        "id": "CBdozkAPSIV8",
        "outputId": "37380ce6-77a8-43d1-ad80-59ffd3ebc6e0"
      },
      "execution_count": null,
      "outputs": [
        {
          "output_type": "stream",
          "name": "stdout",
          "text": [
            "Enter Number of Rows: 5\n",
            "\n",
            "A\n",
            "BB\n",
            "CCC\n",
            "DDDD\n",
            "EEEEE\n"
          ]
        }
      ]
    },
    {
      "cell_type": "markdown",
      "source": [
        "# Question 13\n",
        "\n",
        "##**Reverse Alphabet Pyramid**\n",
        "\n",
        "- Start with the letter 'E'.\n",
        "- Repeat the letter in each row until reaching the specified number of rows (r).\n",
        "- Decrease the letter by one in the next row.\n",
        "- Continue this pattern, decreasing the letter in each subsequent row.\n",
        "\n",
        "Input: 5\n",
        "\n",
        "Output:\n",
        "\n",
        "E\n",
        "\n",
        "D E\n",
        "\n",
        "C D E\n",
        "\n",
        "B C D E\n",
        "\n",
        "A B C D E"
      ],
      "metadata": {
        "id": "9Os2HVvSU_nw"
      }
    },
    {
      "cell_type": "code",
      "source": [
        "# Number of Rows\n",
        "r = int(input(\"Enter Number of Rows: \"))\n",
        "\n",
        "# For Newline\n",
        "print()\n",
        "\n",
        "# Start Character\n",
        "# ord gives ascii value\n",
        "end = ord('A')\n",
        "\n",
        "# Ending Character\n",
        "start = end + r - 1\n",
        "\n",
        "# Printing Pattern\n",
        "for i in range(start, end - 1, -1):\n",
        "\n",
        "  for j in range(i - 65, r):\n",
        "\n",
        "    # chr converts ascii value to character\n",
        "    # 65 is added so that it prints value between start and end\n",
        "    print(chr(65+ j), end = \" \")\n",
        "\n",
        "  print()"
      ],
      "metadata": {
        "colab": {
          "base_uri": "https://localhost:8080/"
        },
        "id": "WgzjDlQUUNLo",
        "outputId": "e2bb5004-148b-4c0b-d352-0bf17f649714"
      },
      "execution_count": 57,
      "outputs": [
        {
          "output_type": "stream",
          "name": "stdout",
          "text": [
            "Enter Number of Rows: 5\n",
            "\n",
            "E \n",
            "D E \n",
            "C D E \n",
            "B C D E \n",
            "A B C D E \n"
          ]
        }
      ]
    },
    {
      "cell_type": "markdown",
      "source": [
        "# Question 14\n",
        "\n",
        "##**Alphabetic Descending Pattern**\n",
        "\n",
        "- In this pattern, we start with the letter 'A' at the top. Each row repeats the current letter until the specified number of rows (input as 'r') is reached.\n",
        "- In the next row, the letter decreases by one, and this pattern continues.\n",
        "- The output forms a pyramid shape with the alphabet letters, gradually decreasing in each row.\n",
        "\n",
        "Input: 4\n",
        "\n",
        "Output:\n",
        "\n",
        "A B C D D C B A\n",
        "\n",
        "A B C C B A\n",
        "\n",
        "A B B A\n",
        "\n",
        "A A"
      ],
      "metadata": {
        "id": "olwcgIVVjlmD"
      }
    },
    {
      "cell_type": "code",
      "source": [
        "# Number of Rows\n",
        "r = int(input(\"Enter Number of Rows: \"))\n",
        "\n",
        "# For Newline\n",
        "print()\n",
        "\n",
        "# Printing Pattern\n",
        "for i in range(r, 0 ,-1):\n",
        "\n",
        "  mid = 2 * i // 2\n",
        "\n",
        "  for j in range(2*i):\n",
        "\n",
        "    if j < mid:\n",
        "      print(chr(j + 65), end = \" \")\n",
        "\n",
        "    else:\n",
        "      print(chr(2 * mid - j + 64), end = \" \")\n",
        "\n",
        "  print()"
      ],
      "metadata": {
        "colab": {
          "base_uri": "https://localhost:8080/"
        },
        "id": "5Nl5bll7jnp9",
        "outputId": "199c42c1-a2ad-40b5-f3e5-5f759e8dbf17"
      },
      "execution_count": 88,
      "outputs": [
        {
          "output_type": "stream",
          "name": "stdout",
          "text": [
            "Enter Number of Rows: 4\n",
            "\n",
            "A B C D D C B A \n",
            "A B C C B A \n",
            "A B B A \n",
            "A A \n"
          ]
        }
      ]
    },
    {
      "cell_type": "markdown",
      "source": [
        "##**Printing Pattern With Space**\n",
        "\n",
        "- Now we will print the same pattern but with spaces in the middle.\n",
        "- We will simply print space in the middle using mid variable.\n",
        "- Rest of the logic is same."
      ],
      "metadata": {
        "id": "tGwDVMpEq4Fv"
      }
    },
    {
      "cell_type": "code",
      "source": [
        "# Number of Rows\n",
        "r = int(input(\"Enter Number of Rows: \"))\n",
        "\n",
        "# For Newline\n",
        "print()\n",
        "\n",
        "# Printing Pattern\n",
        "for i in range(r, 0 ,-1):\n",
        "\n",
        "  mid = 2 * i // 2\n",
        "\n",
        "  for j in range(2*i):\n",
        "\n",
        "    if j < mid:\n",
        "      print(chr(j + 65), end = \" \")\n",
        "\n",
        "    elif j == mid:\n",
        "\n",
        "      # This is to add space\n",
        "      # 2 * r gives the overall range, subtracting mid from it gives the difference i.e r\n",
        "      # Now Since it is in reverse we directly subtract i from it\n",
        "\n",
        "      print(\" \" * (2 * (2 * r - mid - i)), end = \"\")\n",
        "\n",
        "      # Printing Character\n",
        "      print(chr(2 * mid - j + 64), end = \" \")\n",
        "\n",
        "    else:\n",
        "      print(chr(2 * mid - j + 64), end = \" \")\n",
        "\n",
        "  print()"
      ],
      "metadata": {
        "colab": {
          "base_uri": "https://localhost:8080/"
        },
        "id": "9DAeZYY6n_go",
        "outputId": "dd52d0d6-5e76-49e3-f330-e3b303ae80e8"
      },
      "execution_count": 102,
      "outputs": [
        {
          "output_type": "stream",
          "name": "stdout",
          "text": [
            "Enter Number of Rows: 5\n",
            "\n",
            "A B C D E E D C B A \n",
            "A B C D     D C B A \n",
            "A B C         C B A \n",
            "A B             B A \n",
            "A                 A \n"
          ]
        }
      ]
    },
    {
      "cell_type": "code",
      "source": [],
      "metadata": {
        "id": "zcy_ICswo24G"
      },
      "execution_count": null,
      "outputs": []
    }
  ]
}